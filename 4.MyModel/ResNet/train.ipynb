{
 "cells": [
  {
   "cell_type": "code",
   "execution_count": null,
   "metadata": {
    "pycharm": {
     "name": "#%%\n"
    }
   },
   "outputs": [
    {
     "name": "stdout",
     "output_type": "stream",
     "text": [
      "/data/jupyter/3.MyProject/Reset\n",
      "正在使用的是：  cuda\n"
     ]
    }
   ],
   "source": [
    "import torch\n",
    "import torchvision\n",
    "from torchvision.datasets import ImageFolder\n",
    "from torch.utils.data import DataLoader\n",
    "import torch.nn.functional as F\n",
    "import torchvision.transforms as transforms\n",
    "import os\n",
    "import torch.nn as nn\n",
    "import tqdm\n",
    "import time\n",
    "import matplotlib.pyplot as plt\n",
    "from resnet34 import ResNet34\n",
    "from resnet18 import ResNet18\n",
    "from resnet_high import ResNet_High\n",
    "path = os.getcwd()\n",
    "print(path)\n",
    "Device = torch.device(\"cuda\" if torch.cuda.is_available() else \"cpu\")\n",
    "print(\"正在使用的是： \", Device)\n",
    "\n",
    "\n",
    "\n",
    "train_path = \"../../1.MyDataset/Archive/seg_train/seg_train/\"\n",
    "val_path = \"../../1.MyDataset/Archive/seg_test/seg_test/\"\n",
    "batch_size = 32\n",
    "num_workers = 8\n",
    "mytransform = transforms.Compose([transforms.Resize((224, 224)),transforms.ToTensor(),\n",
    "                    transforms.Normalize([0.5, 0.5, 0.5], [0.5, 0.5, 0.5])])\n",
    "\n",
    "train_dataset = ImageFolder(root=train_path,transform=mytransform)\n",
    "train_dataLoader = DataLoader(dataset=train_dataset,shuffle=True,batch_size=batch_size,num_workers=num_workers)\n",
    "\n",
    "val_dataset = ImageFolder(root=val_path,transform=mytransform)\n",
    "val_dataLoader = DataLoader(dataset=val_dataset,shuffle=True,batch_size=batch_size,num_workers=num_workers)\n",
    "\n",
    "resnet = ResNet_High(num_classes=6, each_layernum=[3, 4, 23, 3])\n",
    "resnet = resnet.to(Device)\n",
    "cer = nn.CrossEntropyLoss()\n",
    "cer = cer.to(Device)\n",
    "opti = torch.optim.SGD(resnet.parameters(),lr=0.001)\n",
    "\n",
    "resnet.train()\n",
    "epochs = 100\n",
    "total_train_loss = []\n",
    "total_val_loss = []\n",
    "total_train_acc = []\n",
    "total_val_acc = []\n",
    "total_datas_num = len(train_dataset)\n",
    "\n",
    "for epoch in range(epochs):\n",
    "    start_time = time.time()\n",
    "    each_epoch_curr = 0\n",
    "    each_epoch_trainloss_sum = 0\n",
    "    data_bar = tqdm.tqdm(train_dataLoader)\n",
    "    for i, (img, lables) in enumerate(data_bar,0):\n",
    "        img, lables = img.to(Device), lables.to(Device)\n",
    "        pre_lables = resnet(img)\n",
    "        iter_loss = cer(pre_lables,lables)\n",
    "        true_nums = (torch.argmax(pre_lables,dim=1)==lables).sum().item() # dim=0 表示列最大  dim = 1表示行最大\n",
    "        each_epoch_curr += true_nums\n",
    "        data_bar.set_description(\"train epoch:[{}/{}] loss = {:.3f}\".format(epoch + 1, epochs, iter_loss.item()))\n",
    "        each_epoch_trainloss_sum += iter_loss.item()\n",
    "        \n",
    "        opti.zero_grad()\n",
    "        iter_loss.backward()\n",
    "        opti.step()\n",
    "    total_train_loss.append(each_epoch_trainloss_sum)\n",
    "    data_bar.close()\n",
    "    tqdm.tqdm.write('Train: Average loss of each batch: {:.3}'.format(each_epoch_trainloss_sum/total_datas_num * batch_size))\n",
    "    tqdm.tqdm.write(\"Train: Total Correct number of all datas: {}/{}, Accuracy rate: {:.4}%\".format(each_epoch_curr, total_datas_num, \n",
    "                                                                                              each_epoch_curr/total_datas_num*100))\n",
    "  \n",
    "    total_train_acc.append(each_epoch_curr/total_datas_num * 100) # 正确率\n",
    "    # 验证\n",
    "    resnet.eval()\n",
    "    with torch.no_grad():\n",
    "        each_epoch_curr = 0\n",
    "        each_epoch_valloss_sum = 0\n",
    "        for (img, lables) in val_dataLoader:\n",
    "            img, lables = img.to(Device), lables.to(Device)\n",
    "            pre_lables = resnet(img)\n",
    "            iter_loss = cer(pre_lables,lables)\n",
    "            true_nums = (torch.argmax(pre_lables,dim=1)==lables).sum().item() # dim=0 表示列最大  dim = 1表示行最大\n",
    "            each_epoch_curr += true_nums\n",
    "            each_epoch_valloss_sum += iter_loss.item()\n",
    "    total_val_loss.append(each_epoch_valloss_sum)\n",
    "    tqdm.tqdm.write('Val: Average loss of each batch: {:.3}'.format(each_epoch_valloss_sum / len(val_dataLoader)))\n",
    "    tqdm.tqdm.write(\"Val: Total Correct number of all datas: {}/{}, Accuracy rate: {:.4}%\".format(each_epoch_curr, \n",
    "                                                                                             len(val_dataset), each_epoch_curr/len(val_dataset)*100))\n",
    "    total_val_acc.append(each_epoch_curr / len(val_dataset) * 100)\n",
    "    end_time = time.time()\n",
    "    tqdm.tqdm.write(\"Each Epoch Time: {:.4f}\".format(end_time - start_time))\n",
    "                       \n",
    "plt.figure()    \n",
    "plt.subplot(1,4,1)\n",
    "plt.title(\"Train_Loss\")\n",
    "plt.plot(total_train_loss)\n",
    "plt.subplot(1,4,2)\n",
    "plt.title(\"Train_ACC\")\n",
    "plt.plot(total_train_acc)\n",
    "plt.subplot(1,4,3)\n",
    "plt.title(\"Val_Loss\")\n",
    "plt.plot(total_val_loss)\n",
    "plt.subplot(1,4,4)\n",
    "plt.title(\"Val_Acc\")\n",
    "plt.plot(total_val_acc)\n",
    "plt.show()\n",
    "\n",
    "    "
   ]
  },
  {
   "cell_type": "code",
   "execution_count": 15,
   "metadata": {
    "pycharm": {
     "name": "#%%\n"
    }
   },
   "outputs": [
    {
     "ename": "SyntaxError",
     "evalue": "invalid syntax (<ipython-input-15-2b6d29e885db>, line 1)",
     "output_type": "error",
     "traceback": [
      "\u001B[0;36m  File \u001B[0;32m\"<ipython-input-15-2b6d29e885db>\"\u001B[0;36m, line \u001B[0;32m1\u001B[0m\n\u001B[0;31m    plt.figure())\u001B[0m\n\u001B[0m                ^\u001B[0m\n\u001B[0;31mSyntaxError\u001B[0m\u001B[0;31m:\u001B[0m invalid syntax\n"
     ]
    }
   ],
   "source": [
    "plt.figure()\n",
    "plt.subplot(1,4,1)\n",
    "plt.title(\"Train_Loss\")"
   ]
  },
  {
   "cell_type": "code",
   "execution_count": null,
   "metadata": {
    "pycharm": {
     "name": "#%%\n"
    }
   },
   "outputs": [],
   "source": [
    "plt.subplot(1,4,2)\n",
    "plt.title(\"Train_ACC\")"
   ]
  },
  {
   "cell_type": "code",
   "execution_count": null,
   "metadata": {
    "pycharm": {
     "name": "#%%\n"
    }
   },
   "outputs": [],
   "source": []
  }
 ],
 "metadata": {
  "kernelspec": {
   "display_name": "Python 3",
   "language": "python",
   "name": "python3"
  },
  "language_info": {
   "codemirror_mode": {
    "name": "ipython",
    "version": 3
   },
   "file_extension": ".py",
   "mimetype": "text/x-python",
   "name": "python",
   "nbconvert_exporter": "python",
   "pygments_lexer": "ipython3",
   "version": "3.6.9"
  }
 },
 "nbformat": 4,
 "nbformat_minor": 4
}